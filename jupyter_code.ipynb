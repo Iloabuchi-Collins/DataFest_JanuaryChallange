{
 "cells": [
  {
   "attachments": {},
   "cell_type": "markdown",
   "metadata": {},
   "source": [
    "import packages"
   ]
  },
  {
   "cell_type": "code",
   "execution_count": null,
   "metadata": {},
   "outputs": [],
   "source": [
    "import numpy as np\n",
    "import pandas as pd\n",
    "import matplotlib.pyplot as plt\n",
    "import seaborn as sns"
   ]
  },
  {
   "attachments": {},
   "cell_type": "markdown",
   "metadata": {},
   "source": [
    "open the dataset"
   ]
  },
  {
   "cell_type": "code",
   "execution_count": null,
   "metadata": {},
   "outputs": [],
   "source": [
    "shopify_data = pd.read_csv(\"2019 Winter Data Science Intern Challenge Data Set - Sheet1.csv\")"
   ]
  },
  {
   "attachments": {},
   "cell_type": "markdown",
   "metadata": {},
   "source": [
    "inspect the data"
   ]
  },
  {
   "cell_type": "code",
   "execution_count": null,
   "metadata": {},
   "outputs": [],
   "source": [
    "shopify_data.info"
   ]
  },
  {
   "attachments": {},
   "cell_type": "markdown",
   "metadata": {},
   "source": [
    "From the information above, we can see that the AOV (Average Order Value) was actually calculated correctly to be $3145 since this is the mean. But the minimum value $90 is quite far from the mean and the maximum value $704,000 is an outrageous outlier. Again, comparing this mean($3145) and the median ($248), we can see the large disparity suggesting that the data is skewed. We need to visualize the data to aid our inspection further."
   ]
  },
  {
   "cell_type": "code",
   "execution_count": null,
   "metadata": {},
   "outputs": [],
   "source": [
    "sns.set_style('whitegrid')\n",
    "sns.set_context('notebook')\n",
    "sns.scatter(x = 'total_items', y = 'order_amount', data = shopify_data, hue = 'payment_method')\n",
    "plt.hist(shopify_data)\n",
    "\n"
   ]
  },
  {
   "attachments": {},
   "cell_type": "markdown",
   "metadata": {},
   "source": [
    "From the scatterplot above we can see that the maximum value is an outlier \n",
    "We can also see from the histogram is extremely skewed to the right\n",
    "From these information, we have to eliminate the extreme outliers from the data set before calculating the AOV, because these outliers may be errors or even if they are accurate, they deviate greatly from the normal."
   ]
  },
  {
   "cell_type": "code",
   "execution_count": null,
   "metadata": {},
   "outputs": [],
   "source": [
    "shopify_data2 = shopify_data[shopify_data['order_amount']<30000]\n",
    "shopify_data2.info"
   ]
  },
  {
   "attachments": {},
   "cell_type": "markdown",
   "metadata": {},
   "source": [
    "After filtering out the extreme outliers, we have the new order amount mean as $300, and this is the AOV (Average Order Amount)"
   ]
  },
  {
   "attachments": {},
   "cell_type": "markdown",
   "metadata": {},
   "source": [
    "CONCLUSION\n",
    "Shopify's correct AOV is $\n",
    "From the scatterplot, all outliers of 2000 items worth $740,000 came from the same shop of shop_id 42. These look like manipulations and should be investigated."
   ]
  }
 ],
 "metadata": {
  "kernelspec": {
   "display_name": "Python 3",
   "language": "python",
   "name": "python3"
  },
  "language_info": {
   "name": "python",
   "version": "3.10.3 (tags/v3.10.3:a342a49, Mar 16 2022, 13:07:40) [MSC v.1929 64 bit (AMD64)]"
  },
  "orig_nbformat": 4,
  "vscode": {
   "interpreter": {
    "hash": "df95319d8ce4e1d89f5365ae10992bc1f65da593082b1d264e8f529830ec2f02"
   }
  }
 },
 "nbformat": 4,
 "nbformat_minor": 2
}
